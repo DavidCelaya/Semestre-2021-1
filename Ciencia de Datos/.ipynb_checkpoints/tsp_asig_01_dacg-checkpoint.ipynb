{
 "cells": [
  {
   "cell_type": "markdown",
   "metadata": {
    "colab_type": "text",
    "id": "jQ8OgkSGqzni"
   },
   "source": []
  },
  {
   "cell_type": "code",
   "execution_count": null,
   "metadata": {
    "colab": {},
    "colab_type": "code",
    "id": "D0CumrHfp8no"
   },
   "outputs": [],
   "source": []
  },
  {
   "cell_type": "markdown",
   "metadata": {
    "colab_type": "text",
    "id": "CvGSXUE1q1Bx"
   },
   "source": [
    "Obtener numeros primos, en un rango en especifico, el usuario ingresa el valor minimo y maximo, el programa busca y guarda en una lista los numeros primos que se encuentran en en el rango de valores dado. Al final hacen un plot de la lista"
   ]
  },
  {
   "cell_type": "code",
   "execution_count": 1,
   "metadata": {
    "colab": {
     "base_uri": "https://localhost:8080/",
     "height": 388
    },
    "colab_type": "code",
    "id": "NgHt0lyGcxqh",
    "outputId": "cfe42c59-e770-455f-ba77-3d1ea52d4874"
   },
   "outputs": [
    {
     "name": "stdout",
     "output_type": "stream",
     "text": [
      "Hola que tal soy un programa que te dara una sucecion de numeros primos :D\n",
      "\n",
      "\n",
      "Por favor ingresa el limite inferior de la sucecion:  00\n",
      "Ahora por favor ingresa el limite superior: 100\n",
      "[2, 3, 5, 7, 11, 13, 17, 19, 23, 29, 31, 37, 41, 43, 47, 53, 59, 61, 67, 71, 73, 79, 83, 89, 97]\n"
     ]
    },
    {
     "data": {
      "text/plain": [
       "[<matplotlib.lines.Line2D at 0x7fb716727280>]"
      ]
     },
     "execution_count": 1,
     "metadata": {},
     "output_type": "execute_result"
    },
    {
     "data": {
      "image/png": "[encoded data removed]",
      "text/plain": [
       "<Figure size 432x288 with 1 Axes>"
      ]
     },
     "metadata": {
      "needs_background": "light"
     },
     "output_type": "display_data"
    }
   ],
   "source": [
    "import matplotlib.pyplot as grafica\n",
    "lista = []\n",
    "print(\"Hola que tal soy un programa que te dara una sucecion de numeros primos :D\")\n",
    "print(\"\")\n",
    "print(\"\")\n",
    "inf = int(input(\"Por favor ingresa el limite inferior de la sucecion:  \"))\n",
    "sup = int(input(\"Ahora por favor ingresa el limite superior: \"))\n",
    "for i in range(inf,sup):\n",
    "  prim= True\n",
    "  for a in range(2,i):\n",
    "    if prim == True:\n",
    "      if i % a == 0:\n",
    "        prim = False\n",
    "  if i == 1 or i == 0:\n",
    "    prim =  False\n",
    "\n",
    "  if prim == True:\n",
    "    lista.append(i)\n",
    "print(lista)\n",
    "grafica.plot(lista)\n",
    "    \n",
    "      \n",
    "\n",
    "\n",
    "   \n",
    "    \n",
    "\n",
    "\n",
    " \n",
    "\n"
   ]
  },
  {
   "cell_type": "code",
   "execution_count": null,
   "metadata": {},
   "outputs": [],
   "source": []
  }
 ],
 "metadata": {
  "colab": {
   "collapsed_sections": [],
   "name": "tsp_asig_01_dacg.ipynb",
   "provenance": []
  },
  "kernelspec": {
   "display_name": "Python 3",
   "language": "python",
   "name": "python3"
  },
  "language_info": {
   "codemirror_mode": {
    "name": "ipython",
    "version": 3
   },
   "file_extension": ".py",
   "mimetype": "text/x-python",
   "name": "python",
   "nbconvert_exporter": "python",
   "pygments_lexer": "ipython3",
   "version": "3.8.3"
  }
 },
 "nbformat": 4,
 "nbformat_minor": 1
}
